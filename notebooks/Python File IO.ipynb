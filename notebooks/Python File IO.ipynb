{
 "cells": [
  {
   "cell_type": "markdown",
   "metadata": {},
   "source": [
    "##  File I/O (Input / Output)"
   ]
  },
  {
   "cell_type": "markdown",
   "metadata": {},
   "source": [
    "## Jupyter only writing to text file\n",
    "* %%writefile filename.ext\n",
    "\n",
    "Writes in the working directory (first run pwd) "
   ]
  },
  {
   "cell_type": "code",
   "execution_count": null,
   "metadata": {
    "scrolled": true
   },
   "outputs": [],
   "source": [
    "%%writefile somefile.txt\n",
    "Oh my text first line\n",
    "Super easy second line\n",
    "OH and third line is"
   ]
  },
  {
   "cell_type": "code",
   "execution_count": null,
   "metadata": {},
   "outputs": [],
   "source": [
    "# filein is our own name for file \n",
    "filein = open('somefile.txt')"
   ]
  },
  {
   "cell_type": "code",
   "execution_count": null,
   "metadata": {},
   "outputs": [],
   "source": [
    "type(filein)"
   ]
  },
  {
   "cell_type": "code",
   "execution_count": null,
   "metadata": {},
   "outputs": [],
   "source": [
    "\n",
    "filein.read() # usually not that useful"
   ]
  },
  {
   "cell_type": "code",
   "execution_count": null,
   "metadata": {},
   "outputs": [],
   "source": [
    "filein.read()"
   ]
  },
  {
   "cell_type": "code",
   "execution_count": null,
   "metadata": {},
   "outputs": [],
   "source": [
    "# there can be many pointers to file stream\n",
    "fin = filein"
   ]
  },
  {
   "cell_type": "code",
   "execution_count": null,
   "metadata": {},
   "outputs": [],
   "source": [
    "fin.name"
   ]
  },
  {
   "cell_type": "code",
   "execution_count": null,
   "metadata": {},
   "outputs": [],
   "source": [
    "fin.read() # what will happen ?"
   ]
  },
  {
   "cell_type": "code",
   "execution_count": null,
   "metadata": {},
   "outputs": [],
   "source": [
    "fin.seek(6)\n",
    "fin.read()"
   ]
  },
  {
   "cell_type": "code",
   "execution_count": null,
   "metadata": {},
   "outputs": [],
   "source": [
    "fin.seek(6)\n",
    "text6= fin.read()\n",
    "print(text6)"
   ]
  },
  {
   "cell_type": "code",
   "execution_count": null,
   "metadata": {},
   "outputs": [],
   "source": [
    "# we seek the very beginning of the file\n",
    "fin.seek(0)\n",
    "fulltext = fin.read()\n",
    "print(fulltext)"
   ]
  },
  {
   "cell_type": "code",
   "execution_count": null,
   "metadata": {},
   "outputs": [],
   "source": [
    "fulltext[6:]"
   ]
  },
  {
   "cell_type": "code",
   "execution_count": null,
   "metadata": {},
   "outputs": [],
   "source": [
    "fin.seek(0)\n",
    "mylines=fin.readlines()\n",
    "mylines"
   ]
  },
  {
   "cell_type": "code",
   "execution_count": null,
   "metadata": {},
   "outputs": [],
   "source": [
    "type(mylines)"
   ]
  },
  {
   "cell_type": "code",
   "execution_count": null,
   "metadata": {},
   "outputs": [],
   "source": [
    "type(mylines)"
   ]
  },
  {
   "cell_type": "code",
   "execution_count": null,
   "metadata": {},
   "outputs": [],
   "source": [
    "len(mylines)"
   ]
  },
  {
   "cell_type": "code",
   "execution_count": null,
   "metadata": {},
   "outputs": [],
   "source": [
    "# list comprehension to generate line lengths\n",
    "linelengths = [len(line) for line in mylines]\n",
    "linelengths"
   ]
  },
  {
   "cell_type": "code",
   "execution_count": null,
   "metadata": {},
   "outputs": [],
   "source": [
    "mylines[0]"
   ]
  },
  {
   "cell_type": "code",
   "execution_count": null,
   "metadata": {},
   "outputs": [],
   "source": [
    "print(mylines[0])"
   ]
  },
  {
   "cell_type": "code",
   "execution_count": null,
   "metadata": {},
   "outputs": [],
   "source": [
    "# if we need the representation of string then we use built in repr function\n",
    "print(mylines[0])\n",
    "print(repr(mylines[0])) # same as mylines[0] as the first last item\n",
    "mylines[0]"
   ]
  },
  {
   "cell_type": "code",
   "execution_count": null,
   "metadata": {},
   "outputs": [],
   "source": [
    "# we go trough each line and do some work\n",
    "for line in mylines:\n",
    "    print(f'My Line Is:{line}')\n",
    "    # Do more work on lines"
   ]
  },
  {
   "cell_type": "code",
   "execution_count": null,
   "metadata": {},
   "outputs": [],
   "source": [
    "# We can go throught the file directly (without reading the whole file into memory)\n",
    "fin.seek(0)\n",
    "# we can go through very large files here\n",
    "for line in fin:\n",
    "    print(line, end='')"
   ]
  },
  {
   "cell_type": "code",
   "execution_count": null,
   "metadata": {},
   "outputs": [],
   "source": [
    "for line  in mylines:\n",
    "    print(line)"
   ]
  },
  {
   "cell_type": "code",
   "execution_count": null,
   "metadata": {},
   "outputs": [],
   "source": [
    "#close the file if you .open() it!!\n",
    "fin.close()"
   ]
  },
  {
   "cell_type": "markdown",
   "metadata": {},
   "source": [
    "## Use with open always! \n",
    "\n",
    "* closes automatically!\n",
    "* throws exceptions on errors"
   ]
  },
  {
   "cell_type": "code",
   "execution_count": null,
   "metadata": {},
   "outputs": [],
   "source": [
    "with open('badsomefile.txt') as fin:\n",
    "    for line in fin:\n",
    "        print(line)"
   ]
  },
  {
   "cell_type": "code",
   "execution_count": null,
   "metadata": {},
   "outputs": [],
   "source": [
    "# Idiom on how to open AND close a file for reading and doing work\n",
    "with open('somefile.txt') as fin:\n",
    "    for line in fin:\n",
    "        print(line)\n",
    "    # we can do more work with file here\n",
    "    # maybe fin.seek(0) to read it again for some reason\n",
    "    # File will be closed once this line ends\n",
    "print(\"file is closed already here\")\n",
    "#closes here!\n",
    "#closes automatically!!! "
   ]
  },
  {
   "cell_type": "code",
   "execution_count": null,
   "metadata": {},
   "outputs": [],
   "source": [
    "fin.read()"
   ]
  },
  {
   "cell_type": "markdown",
   "metadata": {},
   "source": [
    "## For MacOS and Linux\n",
    "* use pwd to see where you are\n",
    "### myfile = open(\"/Users/MyUserName/SomeFolder/MaybeAnotherFolder/myfile.txt\")"
   ]
  },
  {
   "cell_type": "markdown",
   "metadata": {},
   "source": [
    "## For Windows\n",
    "* use pwd to see where you are\n",
    "### myfile = open(\"C:\\\\Users\\\\MyUserName\\\\SomeFolder\\\\MaybeAnotherFolder\\\\myfile.txt\")"
   ]
  },
  {
   "cell_type": "code",
   "execution_count": null,
   "metadata": {},
   "outputs": [],
   "source": [
    "# Jupyter Magic !someOScommand for example !dir or !ls\n",
    "!dir"
   ]
  },
  {
   "cell_type": "code",
   "execution_count": null,
   "metadata": {},
   "outputs": [],
   "source": [
    "# importing OS specific library for system work\n",
    "import os"
   ]
  },
  {
   "cell_type": "code",
   "execution_count": null,
   "metadata": {},
   "outputs": [],
   "source": [
    "cwd = os.getcwd()\n",
    "cwd"
   ]
  },
  {
   "cell_type": "code",
   "execution_count": null,
   "metadata": {},
   "outputs": [],
   "source": [
    "#mode=w is write only and it deletes OLD file!!\n",
    "with open('numbers.txt', mode='w') as fwriter:\n",
    "    for n in range(1,10):\n",
    "        fwriter.write(f'The number is {n*2} \\n')\n",
    "        #fout.write(f'The number is {n}') # diferences between \\n and no \\n\n",
    "    #file is closed is here    "
   ]
  },
  {
   "cell_type": "code",
   "execution_count": null,
   "metadata": {},
   "outputs": [],
   "source": [
    "len('The number is {n*2} \\n')*9"
   ]
  },
  {
   "cell_type": "code",
   "execution_count": null,
   "metadata": {},
   "outputs": [],
   "source": [
    "with open('numbers.txt') as freader:\n",
    "    mytext = freader.read()\n",
    "len(mytext)"
   ]
  },
  {
   "cell_type": "code",
   "execution_count": null,
   "metadata": {},
   "outputs": [],
   "source": [
    "with open('numbers.txt') as freader:\n",
    "    sum = 0\n",
    "    for line in freader:\n",
    "        print(line)\n",
    "        print(len(line))\n",
    "        sum += len(line)\n",
    "print(sum)"
   ]
  },
  {
   "cell_type": "code",
   "execution_count": null,
   "metadata": {},
   "outputs": [],
   "source": [
    "from datetime import datetime\n",
    "now = datetime.now()\n",
    "now"
   ]
  },
  {
   "cell_type": "code",
   "execution_count": null,
   "metadata": {},
   "outputs": [],
   "source": [
    "today = datetime.today()\n",
    "print(today)"
   ]
  },
  {
   "cell_type": "code",
   "execution_count": null,
   "metadata": {},
   "outputs": [],
   "source": [
    "#mode=w is write only and it deletes OLD file!!\n",
    "today = datetime.today()\n",
    "with open(f'numbers{today.hour}_{today.minute}_{today.second}.txt', mode='w') as fwriter:\n",
    "    for n in range(1,10):\n",
    "        fwriter.write(f'The number is {n*2} \\n')\n",
    "        #fout.write(f'The number is {n}') # diferences between \\n and no \\n\n",
    "    #file is closed is here    "
   ]
  },
  {
   "cell_type": "code",
   "execution_count": null,
   "metadata": {},
   "outputs": [],
   "source": [
    "today"
   ]
  },
  {
   "cell_type": "code",
   "execution_count": null,
   "metadata": {},
   "outputs": [],
   "source": [
    "today.hour"
   ]
  },
  {
   "cell_type": "code",
   "execution_count": null,
   "metadata": {},
   "outputs": [],
   "source": [
    "today.minute"
   ]
  },
  {
   "cell_type": "code",
   "execution_count": null,
   "metadata": {},
   "outputs": [],
   "source": [
    "datetime.today()"
   ]
  },
  {
   "cell_type": "code",
   "execution_count": null,
   "metadata": {},
   "outputs": [],
   "source": [
    "timestamp = datetime.timestamp(now)\n",
    "timestamp"
   ]
  },
  {
   "cell_type": "code",
   "execution_count": null,
   "metadata": {},
   "outputs": [],
   "source": [
    "str(datetime.now())"
   ]
  },
  {
   "cell_type": "code",
   "execution_count": null,
   "metadata": {},
   "outputs": [],
   "source": [
    "with open('numbers.txt') as fin:\n",
    "    print(fin.readlines())"
   ]
  },
  {
   "cell_type": "code",
   "execution_count": null,
   "metadata": {},
   "outputs": [],
   "source": [
    "with open('numbers.txt', mode='r') as fin:\n",
    "    for line in fin:\n",
    "        print(line, end=\"\")"
   ]
  },
  {
   "cell_type": "code",
   "execution_count": null,
   "metadata": {},
   "outputs": [],
   "source": []
  },
  {
   "cell_type": "code",
   "execution_count": null,
   "metadata": {},
   "outputs": [],
   "source": [
    "# We can append to the files without overwriting\n",
    "with open('numbers.txt', mode='a') as fin:\n",
    "    fin.write(\"This might not be the end\\nThis is really the end\")"
   ]
  },
  {
   "cell_type": "code",
   "execution_count": null,
   "metadata": {},
   "outputs": [],
   "source": [
    "with open('numbers.txt', mode='a') as fin:\n",
    "    fin.seek(4) # seek will not work here for writing\n",
    "    fin.write(\"This is not the end\")"
   ]
  },
  {
   "cell_type": "code",
   "execution_count": null,
   "metadata": {},
   "outputs": [],
   "source": [
    "with open('numbers.txt') as f:\n",
    "    print(f.read())"
   ]
  },
  {
   "cell_type": "code",
   "execution_count": null,
   "metadata": {},
   "outputs": [],
   "source": [
    "# Jupyter magic for reading files into notebook\n",
    "%%readfile numbers.txt\n",
    "The number is 2 \n",
    "The number is 4 \n",
    "The number is 6 \n",
    "The number is 8 \n",
    "The number is 10 \n",
    "The number is 12 \n",
    "The number is 14 \n",
    "The number is 16 \n",
    "The number is 18 \n",
    "This is the end!"
   ]
  },
  {
   "cell_type": "code",
   "execution_count": null,
   "metadata": {},
   "outputs": [],
   "source": [
    "# Generally Preferably to read and write separately - VS"
   ]
  },
  {
   "cell_type": "code",
   "execution_count": null,
   "metadata": {},
   "outputs": [],
   "source": [
    "with open('somefile.txt', mode=\"r+\") as f:\n",
    "    print(f.readlines())\n",
    "    f.write('moreinfo\\tmore\\n')"
   ]
  },
  {
   "cell_type": "code",
   "execution_count": null,
   "metadata": {},
   "outputs": [],
   "source": [
    "with open('sometext.txt') as f:\n",
    "    print(f.readlines())"
   ]
  },
  {
   "cell_type": "markdown",
   "metadata": {},
   "source": [
    "### Modes:\n",
    "  *  mode='r' - Read Only\n",
    "  * 'w' - Write Only (and will overwrite existing files!!!)\n",
    "  * 'a' - Apend Only (stream is at the end of file!)\n",
    "  * 'r+' - Read and Write\n",
    "  * 'w+' - Write and Read with Overwriting existing/make new files\n",
    "  \n",
    "  From C (fopen)\n",
    "   * ``r+''  Open for reading and writing.  The stream is positioned at the\n",
    "         beginning of the file.\n",
    "         \n",
    "    *   ``w+''  Open for reading and writing.  The file is created if it does not\n",
    "         exist, otherwise it is truncated(**destroyed!**).  The stream is positioned at\n",
    "         the beginning of the file.    "
   ]
  },
  {
   "cell_type": "code",
   "execution_count": null,
   "metadata": {},
   "outputs": [],
   "source": [
    "!cd data/"
   ]
  },
  {
   "cell_type": "code",
   "execution_count": null,
   "metadata": {},
   "outputs": [],
   "source": [
    "!dir"
   ]
  },
  {
   "cell_type": "code",
   "execution_count": null,
   "metadata": {},
   "outputs": [],
   "source": [
    "mylist = list(range(1,30))\n",
    "mytextlist = [str(x)+'\\n' for x in range(1,30)]\n",
    "with open('list.txt', mode='w') as fwriter:\n",
    "    fwriter.writelines(mytextlist)\n"
   ]
  },
  {
   "cell_type": "code",
   "execution_count": null,
   "metadata": {},
   "outputs": [],
   "source": [
    "with open('biglist.txt', mode='w') as fwriter:\n",
    "    for n in range(1,1_000_000):\n",
    "        fwriter.write('Line:'+ str(n)+'\\n')\n"
   ]
  },
  {
   "cell_type": "markdown",
   "metadata": {},
   "source": [
    "## To write large files optimally you will want to write them in blocks, that is create a list of lines to write that can stay i then writelines"
   ]
  }
 ],
 "metadata": {
  "kernelspec": {
   "display_name": "Python 3",
   "language": "python",
   "name": "python3"
  },
  "language_info": {
   "codemirror_mode": {
    "name": "ipython",
    "version": 3
   },
   "file_extension": ".py",
   "mimetype": "text/x-python",
   "name": "python",
   "nbconvert_exporter": "python",
   "pygments_lexer": "ipython3",
   "version": "3.7.3"
  }
 },
 "nbformat": 4,
 "nbformat_minor": 2
}
