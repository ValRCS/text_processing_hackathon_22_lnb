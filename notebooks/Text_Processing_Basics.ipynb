{
 "cells": [
  {
   "cell_type": "code",
   "execution_count": null,
   "metadata": {},
   "outputs": [],
   "source": [
    "# in this notebook we will read some text files and do some basic text processing\n"
   ]
  },
  {
   "cell_type": "code",
   "execution_count": 1,
   "metadata": {},
   "outputs": [],
   "source": [
    "# Tools used\n",
    "# Python \n",
    "# download Python from https://www.python.org/downloads/\n",
    "# Visual Studio Code\n",
    "# install Visual Studio Code from https://code.visualstudio.com/\n",
    "# Python plugin / extension for Visual Studio Code\n",
    "# install Python plugin from https://marketplace.visualstudio.com/items?itemName=ms-python.python\n",
    "# Python \n",
    "\n",
    "# Alternative tools for local development\n",
    "# Anaconda (includes Python)\n",
    "# Anaconda is a free and open-source distribution of the Python and R programming languages for scientific computing, that aims to simplify package management and deployment.\n",
    "# download Anaconda from https://www.anaconda.com/distribution/\n",
    "\n",
    "# Cloud based tools\n",
    "\n",
    "# Google Colab\n",
    "# Google Colab is a free Jupyter notebook environment that requires no setup and runs entirely in the cloud.\n",
    "# https://colab.research.google.com/notebooks/intro.ipynb\n",
    "# this notebook\n",
    "# \n",
    "\n",
    "\n",
    "# myBinder\n",
    "# myBinder is a free service that allows you to create a temporary, cloud-based Jupyter notebook environment.\n",
    "# https://mybinder.org/\n",
    "# This repository https://mybinder.org/v2/gh/ValRCS/text_processing_hackathon_22_lnb/HEAD\n",
    "# above link wil start a temporary Jupyter notebook environment in the cloud (takes a few minutes to start)"
   ]
  },
  {
   "cell_type": "code",
   "execution_count": null,
   "metadata": {},
   "outputs": [],
   "source": []
  }
 ],
 "metadata": {
  "kernelspec": {
   "display_name": "Python 3.10.7 ('venv': venv)",
   "language": "python",
   "name": "python3"
  },
  "language_info": {
   "codemirror_mode": {
    "name": "ipython",
    "version": 3
   },
   "file_extension": ".py",
   "mimetype": "text/x-python",
   "name": "python",
   "nbconvert_exporter": "python",
   "pygments_lexer": "ipython3",
   "version": "3.10.7"
  },
  "orig_nbformat": 4,
  "vscode": {
   "interpreter": {
    "hash": "e7da82156365e13e02d7b47d060da2b5f6c0fa357340874eed6acf8917cdda2b"
   }
  }
 },
 "nbformat": 4,
 "nbformat_minor": 2
}
