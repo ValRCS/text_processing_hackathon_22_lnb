{
 "cells": [
  {
   "cell_type": "code",
   "execution_count": null,
   "metadata": {},
   "outputs": [],
   "source": [
    "# in this notebook we will read some text files and do some basic text processing\n"
   ]
  },
  {
   "cell_type": "code",
   "execution_count": 1,
   "metadata": {},
   "outputs": [],
   "source": [
    "# Tools used\n",
    "# Python \n",
    "# download Python from https://www.python.org/downloads/\n",
    "# Visual Studio Code\n",
    "# install Visual Studio Code from https://code.visualstudio.com/\n",
    "# Python plugin / extension for Visual Studio Code\n",
    "# install Python plugin from https://marketplace.visualstudio.com/items?itemName=ms-python.python\n",
    "# Python \n",
    "\n",
    "# Alternative tools for local development\n",
    "# Anaconda (includes Python)\n",
    "# Anaconda is a free and open-source distribution of the Python and R programming languages for scientific computing, that aims to simplify package management and deployment.\n",
    "# download Anaconda from https://www.anaconda.com/distribution/\n",
    "\n",
    "# Cloud based tools\n",
    "\n",
    "# Google Colab\n",
    "# Google Colab is a free Jupyter notebook environment that requires no setup and runs entirely in the cloud.\n",
    "# https://colab.research.google.com/notebooks/intro.ipynb\n",
    "# this notebook\n",
    "# https://colab.research.google.com/github/ValRCS/text_processing_hackathon_22_lnb/blob/main/notebooks/Text_Processing_Basics.ipynb\n",
    "\n",
    "\n",
    "# myBinder\n",
    "# myBinder is a free service that allows you to create a temporary, cloud-based Jupyter notebook environment.\n",
    "# https://mybinder.org/\n",
    "# This repository https://mybinder.org/v2/gh/ValRCS/text_processing_hackathon_22_lnb/HEAD\n",
    "# above link wil start a temporary Jupyter notebook environment in the cloud (takes a few minutes to start)\n",
    "\n",
    "# another alternative is REPLIT\n",
    "# https://replit.com/~ - free online IDE and Terminals"
   ]
  },
  {
   "cell_type": "code",
   "execution_count": 2,
   "metadata": {},
   "outputs": [
    {
     "data": {
      "text/plain": [
       "32"
      ]
     },
     "execution_count": 2,
     "metadata": {},
     "output_type": "execute_result"
    }
   ],
   "source": [
    "2+3*10 # regular arithmetic operations precedence"
   ]
  },
  {
   "cell_type": "code",
   "execution_count": 3,
   "metadata": {},
   "outputs": [
    {
     "name": "stdout",
     "output_type": "stream",
     "text": [
      "32\n"
     ]
    }
   ],
   "source": [
    "my_variable = 2+3*10 # assign value to variable\n",
    "print(my_variable) # print variable value"
   ]
  },
  {
   "cell_type": "code",
   "execution_count": 4,
   "metadata": {},
   "outputs": [
    {
     "name": "stdout",
     "output_type": "stream",
     "text": [
      "Valdis\n"
     ]
    }
   ],
   "source": [
    "my_name = \"Valdis\" # assign string value to variable\n",
    "print(my_name) # print variable value"
   ]
  },
  {
   "cell_type": "code",
   "execution_count": 5,
   "metadata": {},
   "outputs": [
    {
     "name": "stdout",
     "output_type": "stream",
     "text": [
      "VALDIS\n"
     ]
    }
   ],
   "source": [
    "print(my_name.upper()) # print variable value in upper case"
   ]
  },
  {
   "cell_type": "code",
   "execution_count": 6,
   "metadata": {},
   "outputs": [
    {
     "name": "stdout",
     "output_type": "stream",
     "text": [
      "42\n"
     ]
    }
   ],
   "source": [
    "answer = my_variable + 10 # assign value to variable\n",
    "print(answer)"
   ]
  },
  {
   "cell_type": "code",
   "execution_count": 7,
   "metadata": {},
   "outputs": [
    {
     "name": "stdout",
     "output_type": "stream",
     "text": [
      "1\n"
     ]
    }
   ],
   "source": [
    "reminder = 7 % 2 # assign value to variable\n",
    "print(reminder) # useful for checking if number is even or odd"
   ]
  },
  {
   "cell_type": "code",
   "execution_count": 12,
   "metadata": {},
   "outputs": [
    {
     "ename": "SyntaxError",
     "evalue": "expected ':' (4031839100.py, line 3)",
     "output_type": "error",
     "traceback": [
      "\u001b[1;36m  Cell \u001b[1;32mIn [12], line 3\u001b[1;36m\u001b[0m\n\u001b[1;33m    if reminder == 0\u001b[0m\n\u001b[1;37m                    ^\u001b[0m\n\u001b[1;31mSyntaxError\u001b[0m\u001b[1;31m:\u001b[0m expected ':'\n"
     ]
    }
   ],
   "source": [
    "# we want to do something depending on the value of reminder\n",
    "reminder = 0 # we assign value with = sign\n",
    "if reminder == 0: # we compare with == sign\n",
    "    print(\"even number\")\n",
    "    # more instructions can follow for even numbers\n",
    "else:\n",
    "    print(\"odd number\")\n",
    "    print(\"Indeed reminder is\", reminder)\n",
    "# only one of the above will be executed"
   ]
  },
  {
   "cell_type": "code",
   "execution_count": 17,
   "metadata": {},
   "outputs": [
    {
     "name": "stdout",
     "output_type": "stream",
     "text": [
      "Hello text processing!\n"
     ]
    }
   ],
   "source": [
    "print(\"Hello text processing!\")"
   ]
  },
  {
   "cell_type": "code",
   "execution_count": 18,
   "metadata": {},
   "outputs": [
    {
     "name": "stdout",
     "output_type": "stream",
     "text": [
      "Hello text processing!\n"
     ]
    }
   ],
   "source": [
    "# in python single quotes and double quotes are the same\n",
    "print('Hello text processing!')"
   ]
  },
  {
   "cell_type": "code",
   "execution_count": 19,
   "metadata": {},
   "outputs": [
    {
     "name": "stdout",
     "output_type": "stream",
     "text": [
      "Hello text processing!\n"
     ]
    }
   ],
   "source": [
    "message = 'Hello text processing!'\n",
    "print(message)"
   ]
  },
  {
   "cell_type": "code",
   "execution_count": 20,
   "metadata": {},
   "outputs": [
    {
     "name": "stdout",
     "output_type": "stream",
     "text": [
      "message\n"
     ]
    }
   ],
   "source": [
    "print(\"message\")  # this will print literal string message"
   ]
  },
  {
   "cell_type": "code",
   "execution_count": null,
   "metadata": {},
   "outputs": [],
   "source": [
    "# good comments are important\n",
    "# this is a comment\n",
    "# comments should explain what is going on\n",
    "# comments should explain the why"
   ]
  },
  {
   "cell_type": "code",
   "execution_count": 22,
   "metadata": {},
   "outputs": [
    {
     "data": {
      "text/plain": [
       "(True, True, True)"
      ]
     },
     "execution_count": 22,
     "metadata": {},
     "output_type": "execute_result"
    }
   ],
   "source": [
    "# we use booleans to check if something is true or false\n",
    "40 < answer, 42 == answer, 45 > answer"
   ]
  },
  {
   "cell_type": "code",
   "execution_count": 23,
   "metadata": {},
   "outputs": [
    {
     "data": {
      "text/plain": [
       "(True, False, True)"
      ]
     },
     "execution_count": 23,
     "metadata": {},
     "output_type": "execute_result"
    }
   ],
   "source": [
    "42 <= answer, 42 != answer, 42 >= answer"
   ]
  },
  {
   "cell_type": "code",
   "execution_count": 24,
   "metadata": {},
   "outputs": [
    {
     "name": "stdout",
     "output_type": "stream",
     "text": [
      "1\n",
      "2\n",
      "3\n",
      "4\n",
      "5\n",
      "6\n",
      "7\n",
      "8\n",
      "9\n",
      "10\n"
     ]
    }
   ],
   "source": [
    "# loops are useful for repeating the same thing many times\n",
    "# we will use for loop to print numbers 1 to 10\n",
    "for i in range(1,11): # 11 is not included\n",
    "    print(i)"
   ]
  },
  {
   "cell_type": "code",
   "execution_count": 25,
   "metadata": {},
   "outputs": [
    {
     "name": "stdout",
     "output_type": "stream",
     "text": [
      "V\n",
      "a\n",
      "l\n",
      "d\n",
      "i\n",
      "s\n"
     ]
    }
   ],
   "source": [
    "for my_char in my_name:\n",
    "    print(my_char)"
   ]
  },
  {
   "cell_type": "code",
   "execution_count": 26,
   "metadata": {},
   "outputs": [
    {
     "name": "stdout",
     "output_type": "stream",
     "text": [
      "3.1415926\n"
     ]
    }
   ],
   "source": [
    "MY_PI = 3.1415926\n",
    "print(MY_PI)"
   ]
  },
  {
   "cell_type": "code",
   "execution_count": 27,
   "metadata": {},
   "outputs": [
    {
     "name": "stdout",
     "output_type": "stream",
     "text": [
      "[1, 2, 3, 4, 5, 6, 7, 8, 9, 10]\n"
     ]
    }
   ],
   "source": [
    "# there are compound data types\n",
    "# most popular are lists and dictionaries\n",
    "my_list = [1,2,3,4,5,6,7,8,9,10]\n",
    "print(my_list)"
   ]
  },
  {
   "cell_type": "code",
   "execution_count": 29,
   "metadata": {},
   "outputs": [
    {
     "name": "stdout",
     "output_type": "stream",
     "text": [
      "number is 1\n",
      "1\n",
      "number is 2\n",
      "2\n",
      "number is 3\n",
      "3\n",
      "number is 4\n",
      "4\n",
      "number is 5\n",
      "5\n",
      "number is 6\n",
      "6\n",
      "number is 7\n",
      "7\n",
      "number is 8\n",
      "8\n",
      "number is 9\n",
      "9\n",
      "number is 10\n",
      "10\n"
     ]
    }
   ],
   "source": [
    "for number in my_list:\n",
    "    # we can use f-strings to print variables inside strings\n",
    "    print(f\"number is {number}\") # i can use variables inside strings\n",
    "    print(number)"
   ]
  },
  {
   "cell_type": "code",
   "execution_count": 30,
   "metadata": {},
   "outputs": [
    {
     "name": "stdout",
     "output_type": "stream",
     "text": [
      "1\n",
      "2\n",
      "10\n"
     ]
    }
   ],
   "source": [
    "print(my_list[0]) # first element in list\n",
    "# in programming we start counting from 0 - almost always\n",
    "print(my_list[1]) # second element in list\n",
    "# last element in list\n",
    "print(my_list[-1]) # last element in list"
   ]
  },
  {
   "cell_type": "code",
   "execution_count": 31,
   "metadata": {},
   "outputs": [
    {
     "name": "stdout",
     "output_type": "stream",
     "text": [
      "10\n"
     ]
    }
   ],
   "source": [
    "print(len(my_list))"
   ]
  },
  {
   "cell_type": "code",
   "execution_count": 33,
   "metadata": {},
   "outputs": [
    {
     "name": "stdout",
     "output_type": "stream",
     "text": [
      "10\n",
      "10\n",
      "10\n"
     ]
    }
   ],
   "source": [
    "# how to print last element with positive index\n",
    "print(my_list[len(my_list)-1])\n",
    "print(my_list[9])  # 9 because we start counting from 0\n",
    "print(my_list[-1])"
   ]
  },
  {
   "cell_type": "code",
   "execution_count": 34,
   "metadata": {},
   "outputs": [
    {
     "name": "stdout",
     "output_type": "stream",
     "text": [
      "[1, 2, 3]\n",
      "Val\n"
     ]
    }
   ],
   "source": [
    "print(my_list[0:3]) # first 3 elements\n",
    "print(my_name[:3]) # first 3 characters 0 is optional"
   ]
  },
  {
   "cell_type": "code",
   "execution_count": 36,
   "metadata": {},
   "outputs": [
    {
     "name": "stdout",
     "output_type": "stream",
     "text": [
      "[4, 5, 6, 7, 8, 9, 10]\n",
      "dis\n"
     ]
    }
   ],
   "source": [
    "print(my_list[3:]) # from 4th element to the end, 10 is optional\n",
    "print(my_name[3:]) # from 4th character to the end"
   ]
  },
  {
   "cell_type": "code",
   "execution_count": 37,
   "metadata": {},
   "outputs": [
    {
     "name": "stdout",
     "output_type": "stream",
     "text": [
      "[1, 3, 5, 7, 9]\n",
      "Vli\n"
     ]
    }
   ],
   "source": [
    "print(my_list[0:10:2]) # every second element\n",
    "print(my_name[::2]) # start and end are optional"
   ]
  },
  {
   "cell_type": "code",
   "execution_count": 38,
   "metadata": {},
   "outputs": [
    {
     "name": "stdout",
     "output_type": "stream",
     "text": [
      "[10, 9, 8, 7, 6, 5, 4, 3, 2, 1]\n",
      "sidlaV\n"
     ]
    }
   ],
   "source": [
    "print(my_list[::-1]) # reverse list\n",
    "print(my_name[::-1]) # reverse string"
   ]
  },
  {
   "cell_type": "code",
   "execution_count": 42,
   "metadata": {},
   "outputs": [
    {
     "name": "stdout",
     "output_type": "stream",
     "text": [
      "[1, 2, 3, 4, 5, 6, 7, 8, 9, 10, 42]\n"
     ]
    }
   ],
   "source": [
    "# adding value to list\n",
    "my_list.append(42)\n",
    "print(my_list)"
   ]
  },
  {
   "cell_type": "code",
   "execution_count": null,
   "metadata": {},
   "outputs": [],
   "source": [
    "# more about list methods\n",
    "# https://docs.python.org/3/tutorial/datastructures.html"
   ]
  },
  {
   "cell_type": "code",
   "execution_count": 39,
   "metadata": {},
   "outputs": [
    {
     "data": {
      "text/plain": [
       "{'name': 'Valdis', 'age': 42, 'city': 'Riga', 'country': 'Latvia'}"
      ]
     },
     "execution_count": 39,
     "metadata": {},
     "output_type": "execute_result"
    }
   ],
   "source": [
    "# another fundamental data type is dictionary\n",
    "# dictionaries are key value pairs\n",
    "# we can use them to store data in a structured way\n",
    "# example\n",
    "# we want to store information about a person\n",
    "# name, age\n",
    "# we can use dictionary to store this information\n",
    "# we can use name as key and age as value\n",
    "person = {\"name\": \"Valdis\", \"age\": 42, \"city\": \"Riga\", \"country\": \"Latvia\"}\n",
    "person"
   ]
  },
  {
   "cell_type": "code",
   "execution_count": 40,
   "metadata": {},
   "outputs": [
    {
     "data": {
      "text/plain": [
       "('Valdis', 'Valdis')"
      ]
     },
     "execution_count": 40,
     "metadata": {},
     "output_type": "execute_result"
    }
   ],
   "source": [
    "person['name'], person.get('name') # get is safer but slower"
   ]
  },
  {
   "cell_type": "code",
   "execution_count": 41,
   "metadata": {},
   "outputs": [
    {
     "name": "stdout",
     "output_type": "stream",
     "text": [
      "{'name': 'Valdis', 'age': 42, 'city': 'Riga', 'country': 'Latvia', 'hobby': 'Python'}\n"
     ]
    }
   ],
   "source": [
    "person['hobby'] = 'Python' # add new key value pair\n",
    "print(person)"
   ]
  },
  {
   "cell_type": "code",
   "execution_count": 43,
   "metadata": {},
   "outputs": [
    {
     "name": "stdout",
     "output_type": "stream",
     "text": [
      "title: Mērnieku laiki\n",
      "isPartOf:\n",
      "creator: Kaudzīte, Reinis, 1839–1920; Kaudzīte, Matīss, 1848–1926 \n",
      "dateIssued: 1980\n",
      "publisher: Rīga: Liesma\n",
      "firstPublished: 1873\n",
      "firstEdition: 1879\n",
      "dateModified: 08.06.\n"
     ]
    }
   ],
   "source": [
    "# how to read a text file\n",
    "absolute_path = r\"C:\\Users\\val-wd\\Github\\text_processing_hackathon_22_lnb\\data\\KaudR_MernL_413085.txt\"\n",
    "# i use r for raw string because i want to use backslashes as is\n",
    "with open(absolute_path, encoding=\"utf-8\") as f:\n",
    "    text = f.read()\n",
    "# file is automatically closed after this block\n",
    "# print first 200 characters\n",
    "print(text[:200])\n"
   ]
  },
  {
   "cell_type": "code",
   "execution_count": 44,
   "metadata": {},
   "outputs": [
    {
     "name": "stdout",
     "output_type": "stream",
     "text": [
      "zīvojusi diezgan nomodā. Par tevi gribam gādāt mēs, citi cilvēki, kā spēdami, bet jo vairāk tas, par kuru vecā krustmāte būs tev jau diezgan stāstījusi, tas.» Še mācītājs rādīja ar otru roku uz augšu.\n",
      "\n",
      "Kas zvaigznes gaisos stāda,\n",
      "Kas saulei ceļu spriež,\n",
      "Lai tas par tevi gādā,\n",
      "Kad bēdas tevi spiež.\n",
      "\n",
      "\n"
     ]
    }
   ],
   "source": [
    "# print last 300 characters\n",
    "print(text[-300:])"
   ]
  },
  {
   "cell_type": "code",
   "execution_count": 46,
   "metadata": {},
   "outputs": [
    {
     "name": "stdout",
     "output_type": "stream",
     "text": [
      "title: Mērnieku laiki\n",
      "isPartOf:\n",
      "creator: Kaudzīte, Reinis, 1839–1920; Kaudzīte, Matīss, 1848–1926 \n",
      "dateIssued: 1980\n",
      "publisher: Rīga: Liesma\n",
      "firstPublished: 1873\n",
      "firstEdition: 1879\n",
      "dateModified: 08.06.\n"
     ]
    }
   ],
   "source": [
    "# relative path is relative to the current working directory\n",
    "# we can use relative path if we are in the same directory\n",
    "# we use .. to go up one directory\n",
    "relative_path = \"../data/KaudR_MernL_413085.txt\"\n",
    "# we use encoding to specify what encoding we are using\n",
    "# for latviešu valoda we use utf-8\n",
    "with open(relative_path, encoding=\"utf-8\") as f:\n",
    "    also_text = f.read()\n",
    "# file is automatically closed after this block\n",
    "print(also_text[:200])"
   ]
  },
  {
   "cell_type": "code",
   "execution_count": 49,
   "metadata": {},
   "outputs": [
    {
     "name": "stdout",
     "output_type": "stream",
     "text": [
      "['title: Mērnieku laiki', 'isPartOf:', 'creator: Kaudzīte, Reinis, 1839–1920; Kaudzīte, Matīss, 1848–1926 ', 'dateIssued: 1980', 'publisher: Rīga: Liesma', 'firstPublished: 1873', 'firstEdition: 1879', 'dateModified: 08.06.2021', 'copyright: Nav aizsargāts ar autortiesībām', 'uri: http://dom.lndb.lv/data/obj/413085', 'normalization: ', 'ocrCorrection: Jā', '', '', '', 'Mērnieku laiki', '', 'Pirmā daļa', '', '', 'I', '', '«Veco krustmāt, kad tu man dosi arī to manas mātes balto lakatu, kuru man šodien rādīji?»', '', '«Tad, meitiņ, kad būsi liela, kad iesi mācībā. Tava māte arī sedzās viņu pirmoreiz tad, kad viņu pieņēma par lielu meitu — tāpat kā otrējo Grietu viņdien. Valkā vien tagad šos pašus manus lakatus pa skolu. Ja varēšu vēl kādu dzijtiņu savērpt, tad gan nopirkšu arī kādu no žīda: turpmāk būs man mājā vienai garš laiks.»']\n"
     ]
    }
   ],
   "source": [
    "# we would want to skip the metadata\n",
    "# we can use splitlines to split text into lines\n",
    "rows = text.splitlines()\n",
    "print(rows[:25])"
   ]
  },
  {
   "cell_type": "code",
   "execution_count": 50,
   "metadata": {},
   "outputs": [
    {
     "name": "stdout",
     "output_type": "stream",
     "text": [
      "[21, 9, 66, 16, 23, 20, 18, 24, 42, 39, 15, 17, 0, 0, 0, 14, 0, 10, 0, 0, 1, 0, 89, 0, 318]\n"
     ]
    }
   ],
   "source": [
    "# get length of each row\n",
    "# and save it to a list\n",
    "row_lengths = [len(row) for row in rows]\n",
    "print(row_lengths[:25])\n"
   ]
  },
  {
   "cell_type": "code",
   "execution_count": 52,
   "metadata": {},
   "outputs": [
    {
     "name": "stdout",
     "output_type": "stream",
     "text": [
      "Average row length is 172.92\n"
     ]
    }
   ],
   "source": [
    "# find average length of rows\n",
    "# we can use sum to sum up all values in a list\n",
    "# we can use len to get length of a list\n",
    "average_row_length = sum(row_lengths) / len(row_lengths)\n",
    "print(\"Average row length is\", round(average_row_length,2)) # we use round to round to 2 decimals"
   ]
  },
  {
   "cell_type": "code",
   "execution_count": 53,
   "metadata": {},
   "outputs": [
    {
     "name": "stdout",
     "output_type": "stream",
     "text": [
      "title: mērnieku laiki\n",
      "ispartof:\n",
      "creator: kaudzīte, reinis, 1839–1920; kaudzīte, matīss, 1848–1926 \n",
      "dateissued: 1980\n",
      "publisher: rīga: liesma\n",
      "firstpublished: 1873\n",
      "firstedition: 1879\n",
      "datemodified: 08.06.\n"
     ]
    }
   ],
   "source": [
    "# we could lowercase the whole text\n",
    "text_lower = text.lower()\n",
    "print(text_lower[:200])"
   ]
  },
  {
   "cell_type": "code",
   "execution_count": 55,
   "metadata": {},
   "outputs": [
    {
     "name": "stdout",
     "output_type": "stream",
     "text": [
      "!\"#$%&'()*+,-./:;<=>?@[\\]^_`{|}~\n"
     ]
    }
   ],
   "source": [
    "# remove punctuation from text\n",
    "# we can use replace to replace one string with another\n",
    "import string\n",
    "print(string.punctuation)\n",
    "# we go through each punctuation character and replace with empty string\n",
    "for punctuation in string.punctuation:\n",
    "    text_lower = text_lower.replace(punctuation, \" \")"
   ]
  },
  {
   "cell_type": "code",
   "execution_count": null,
   "metadata": {},
   "outputs": [],
   "source": []
  },
  {
   "cell_type": "code",
   "execution_count": 56,
   "metadata": {},
   "outputs": [
    {
     "name": "stdout",
     "output_type": "stream",
     "text": [
      "We have gotten tokens of length 165032\n"
     ]
    }
   ],
   "source": [
    "# we will want to split our text into tokens\n",
    "# we can use split to split text into words\n",
    "tokens = text_lower.split() # split by whitespace - newline, space, tab\n",
    "# result is a list of strings\n",
    "print(\"We have gotten tokens of length\", len(tokens))"
   ]
  },
  {
   "cell_type": "code",
   "execution_count": 57,
   "metadata": {},
   "outputs": [
    {
     "name": "stdout",
     "output_type": "stream",
     "text": [
      "['title', 'mērnieku', 'laiki', 'ispartof', 'creator', 'kaudzīte', 'reinis', '1839–1920', 'kaudzīte', 'matīss', '1848–1926', 'dateissued', '1980', 'publisher', 'rīga', 'liesma', 'firstpublished', '1873', 'firstedition', '1879', 'datemodified', '08', '06', '2021', 'copyright', 'nav', 'aizsargāts', 'ar', 'autortiesībām', 'uri', 'http', 'dom', 'lndb', 'lv', 'data', 'obj', '413085', 'normalization', 'ocrcorrection', 'jā', 'mērnieku', 'laiki', 'pirmā', 'daļa', 'i', '«veco', 'krustmāt', 'kad', 'tu', 'man', 'dosi', 'arī', 'to', 'manas', 'mātes', 'balto', 'lakatu', 'kuru', 'man', 'šodien', 'rādīji', '»', '«tad', 'meitiņ', 'kad', 'būsi', 'liela', 'kad', 'iesi', 'mācībā', 'tava', 'māte', 'arī', 'sedzās', 'viņu', 'pirmoreiz', 'tad', 'kad', 'viņu', 'pieņēma', 'par', 'lielu', 'meitu', '—', 'tāpat', 'kā', 'otrējo', 'grietu', 'viņdien', 'valkā', 'vien', 'tagad', 'šos', 'pašus', 'manus', 'lakatus', 'pa', 'skolu', 'ja', 'varēšu']\n"
     ]
    }
   ],
   "source": [
    "print(tokens[:100])"
   ]
  },
  {
   "cell_type": "code",
   "execution_count": 60,
   "metadata": {},
   "outputs": [
    {
     "data": {
      "text/plain": [
       "1"
      ]
     },
     "execution_count": 60,
     "metadata": {},
     "output_type": "execute_result"
    }
   ],
   "source": [
    "tokens.index(\"mērnieku\")"
   ]
  },
  {
   "cell_type": "code",
   "execution_count": 61,
   "metadata": {},
   "outputs": [
    {
     "data": {
      "text/plain": [
       "38"
      ]
     },
     "execution_count": 61,
     "metadata": {},
     "output_type": "execute_result"
    }
   ],
   "source": [
    "tokens.index(\"ocrcorrection\")"
   ]
  },
  {
   "cell_type": "code",
   "execution_count": 62,
   "metadata": {},
   "outputs": [
    {
     "name": "stdout",
     "output_type": "stream",
     "text": [
      "['jā', 'mērnieku', 'laiki', 'pirmā', 'daļa', 'i', '«veco', 'krustmāt', 'kad', 'tu', 'man', 'dosi', 'arī', 'to', 'manas', 'mātes', 'balto', 'lakatu', 'kuru', 'man', 'šodien', 'rādīji', '»', '«tad', 'meitiņ', 'kad', 'būsi', 'liela', 'kad', 'iesi', 'mācībā', 'tava', 'māte', 'arī', 'sedzās', 'viņu', 'pirmoreiz', 'tad', 'kad', 'viņu', 'pieņēma', 'par', 'lielu', 'meitu', '—', 'tāpat', 'kā', 'otrējo', 'grietu', 'viņdien', 'valkā', 'vien', 'tagad', 'šos', 'pašus', 'manus', 'lakatus', 'pa', 'skolu', 'ja', 'varēšu', 'vēl', 'kādu', 'dzijtiņu', 'savērpt', 'tad', 'gan', 'nopirkšu', 'arī', 'kādu', 'no', 'žīda', 'turpmāk', 'būs', 'man', 'mājā', 'vienai', 'garš', 'laiks', '»', '«no', 'kura', 'žīda', 'tu', 'pirki', 'šos', 'lakatus', 'kurus', 'man', 'iedevi', '»', '«tie', 'vis', 'bērniņ', 'nav', 'pirkti', '—', 'tos', 'man', 'iedāvināja']\n"
     ]
    }
   ],
   "source": [
    "tokens = tokens[39:] # we remove first 39 tokens\n",
    "print(tokens[:100])"
   ]
  },
  {
   "cell_type": "code",
   "execution_count": 63,
   "metadata": {},
   "outputs": [
    {
     "name": "stdout",
     "output_type": "stream",
     "text": [
      "['mērnieku', 'laiki', 'pirmā', 'daļa', 'i', '«veco', 'krustmāt', 'kad', 'tu', 'man', 'dosi', 'arī', 'to', 'manas', 'mātes', 'balto', 'lakatu', 'kuru', 'man', 'šodien', 'rādīji', '»', '«tad', 'meitiņ', 'kad', 'būsi', 'liela', 'kad', 'iesi', 'mācībā', 'tava', 'māte', 'arī', 'sedzās', 'viņu', 'pirmoreiz', 'tad', 'kad', 'viņu', 'pieņēma', 'par', 'lielu', 'meitu', '—', 'tāpat', 'kā', 'otrējo', 'grietu', 'viņdien', 'valkā', 'vien', 'tagad', 'šos', 'pašus', 'manus', 'lakatus', 'pa', 'skolu', 'ja', 'varēšu', 'vēl', 'kādu', 'dzijtiņu', 'savērpt', 'tad', 'gan', 'nopirkšu', 'arī', 'kādu', 'no', 'žīda', 'turpmāk', 'būs', 'man', 'mājā', 'vienai', 'garš', 'laiks', '»', '«no', 'kura', 'žīda', 'tu', 'pirki', 'šos', 'lakatus', 'kurus', 'man', 'iedevi', '»', '«tie', 'vis', 'bērniņ', 'nav', 'pirkti', '—', 'tos', 'man', 'iedāvināja', 'kāda']\n"
     ]
    }
   ],
   "source": [
    "tokens = tokens[1:] # we remove first token\n",
    "print(tokens[:100])"
   ]
  },
  {
   "cell_type": "code",
   "execution_count": 64,
   "metadata": {},
   "outputs": [
    {
     "name": "stdout",
     "output_type": "stream",
     "text": [
      "[('un', 6209), ('»', 2682), ('kā', 2021), ('ka', 1822), ('ar', 1794), ('arī', 1656), ('bet', 1655), ('bij', 1596), ('uz', 1565), ('no', 1564), ('tad', 1518), ('par', 1464), ('pie', 1338), ('gan', 1298), ('to', 1293), ('tik', 1173), ('ir', 1121), ('vai', 1072), ('jo', 1045), ('tā', 1035)]\n"
     ]
    }
   ],
   "source": [
    "# we can import collections to use Counter\n",
    "from collections import Counter\n",
    "# we can use Counter to count how many times each token appears\n",
    "counter = Counter(tokens)\n",
    "print(counter.most_common(20))"
   ]
  },
  {
   "cell_type": "code",
   "execution_count": 65,
   "metadata": {},
   "outputs": [],
   "source": [
    "# let us save results to a file\n",
    "# we can use with open to open a file for writing\n",
    "with open(\"../data/word_counts.tsv\", \"w\", encoding=\"utf-8\") as f:\n",
    "    # we can use f.write to write to a file\n",
    "    # first we write header\n",
    "    f.write(\"word\\tcount\\n\")  # \\t is tab and \\n is newline\n",
    "    # we can use f.write to write to a file\n",
    "    for word, count in counter.most_common():\n",
    "        f.write(f\"{word}\\t{count}\\n\")       \n",
    "\n"
   ]
  }
 ],
 "metadata": {
  "kernelspec": {
   "display_name": "Python 3.10.7 ('venv': venv)",
   "language": "python",
   "name": "python3"
  },
  "language_info": {
   "codemirror_mode": {
    "name": "ipython",
    "version": 3
   },
   "file_extension": ".py",
   "mimetype": "text/x-python",
   "name": "python",
   "nbconvert_exporter": "python",
   "pygments_lexer": "ipython3",
   "version": "3.10.7"
  },
  "orig_nbformat": 4,
  "vscode": {
   "interpreter": {
    "hash": "e7da82156365e13e02d7b47d060da2b5f6c0fa357340874eed6acf8917cdda2b"
   }
  }
 },
 "nbformat": 4,
 "nbformat_minor": 2
}
